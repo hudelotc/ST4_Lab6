{
 "cells": [
  {
   "cell_type": "markdown",
   "metadata": {
    "colab_type": "text",
    "id": "mTJP3h3blcDm"
   },
   "source": [
    "# Recherche d'Information et traitement de données massives\n",
    "\n",
    "# Lab 6 : Recherche d’information sur le Web : Algortihme de PageRank"
   ]
  },
  {
   "cell_type": "markdown",
   "metadata": {
    "colab_type": "text",
    "id": "e3yAdUK5lcDp"
   },
   "source": [
    "\n"
   ]
  },
  {
   "cell_type": "markdown",
   "metadata": {
    "colab_type": "text",
    "id": "Bs8ftnbllcE2"
   },
   "source": [
    "\n",
    "L'objectif de cette séance est de poursuivre l'étude du problème de la recherche d'information sur le WEB. Elle consistera à s'intéresser à la prise en compte de la structure de la collection du WEB au travers de la mise en oeuvre d'approches d'analyse de liens pour l'ordonnancement.\n",
    "\n",
    "\n",
    "Nous allons implémenter et étudier l'algorithme d'ordonnancement **PageRank**. Ce dernier est utilisé par le moteur de recherche Google pour attribuer un score d'importance à chaque page Web. D'ailleurs, c'est en partie sur la base de ce score (et de nombreux autres facteurs) que le moteur de recherche classe par ordre d'importance les pages Web correspondant à une recherche donnée.\n",
    "\n"
   ]
  },
  {
   "cell_type": "markdown",
   "metadata": {
    "colab_type": "text",
    "id": "l1gL0RatlcE4"
   },
   "source": [
    "### Le format des données\n",
    "\n",
    "Nous allons utiliser le format de type **graphe** pour représenter un nombre $N$ de pages Web. Voici un exemple de graphe :\n",
    "\n",
    "<img src=\"./Figures/graph.png\" width=\"500\" height=\"500\" />\n",
    "\n",
    "La première ligne indique le nombre de pages Web dont il est question pour le graphe (ici 4). Puis pour chacune des lignes suivantes le premier numéro définit l'identifiant d'une page et les numéros suivants les liens sortants de cette page. \n",
    "\n",
    "Vous disposez dans le dossier Data associé à ce Lab, de plusieurs graphes de tailles différentes.\n",
    "\n",
    "Puisque nous allons manipuler des matrices, nous utiliserons la bibliothèque numpy que vous pouvez installer avec la commande ci-dessous."
   ]
  },
  {
   "cell_type": "code",
   "execution_count": 0,
   "metadata": {
    "colab": {},
    "colab_type": "code",
    "id": "SElo29uIlcE5"
   },
   "outputs": [],
   "source": [
    "!pip install numpy"
   ]
  },
  {
   "cell_type": "markdown",
   "metadata": {
    "colab_type": "text",
    "id": "1Nd7IAcplcE8"
   },
   "source": [
    "### Première étape : Matrice d'Adjacence.\n",
    "\n",
    "Nous nommons, $A$ matrice d'adjacence, la matrice de dimension $N \\times N$ telle que $a_{i,j}=1$ s'il existe un lien de la page $i$ vers la page $j$, et $0$ sinon.\n"
   ]
  },
  {
   "cell_type": "markdown",
   "metadata": {},
   "source": [
    "**1. Ecrire une fonction `build_adjacency_matrix(filename)` permettant de construire la matrice d'adjacence à partir d'un graphe dont le format est défini plus haut (et au format .txt).**"
   ]
  },
  {
   "cell_type": "code",
   "execution_count": 0,
   "metadata": {
    "colab": {},
    "colab_type": "code",
    "id": "o_N0La_ClcE-"
   },
   "outputs": [],
   "source": [
    "import numpy as np\n",
    "\n",
    "def build_adjacendy_matrix(filename):\n",
    "    \"\"\"Build the adjacency matrix from the graph file\"\"\"\n",
    "   # A completer\n",
    "        return adjacency_matrix\n"
   ]
  },
  {
   "cell_type": "markdown",
   "metadata": {
    "colab_type": "text",
    "id": "80tBTvC_lcFB"
   },
   "source": [
    "**2. Ouvrir le graph1.txt présent dans le dossier Data et dessiner-le à la main avec des noeuds portant les numéros de pages et des flèches représentant les liens.**\n",
    "\n"
   ]
  },
  {
   "cell_type": "markdown",
   "metadata": {
    "colab_type": "text",
    "id": "yXAAVtcplcFE"
   },
   "source": [
    "**3. Appliquer la fonction `build_adjacency_matrix()` au graph1.txt présent dans le dossier Data. Vérifier le résultat avec votre dessin et notre résultat**\n"
   ]
  },
  {
   "cell_type": "code",
   "execution_count": 0,
   "metadata": {
    "colab": {},
    "colab_type": "code",
    "id": "rQdhxacnlcFG"
   },
   "outputs": [],
   "source": [
    "# A completer"
   ]
  },
  {
   "cell_type": "markdown",
   "metadata": {},
   "source": [
    "**Le résultat attendu:**\n",
    "\n",
    "<img src=\"./Figures/question1.png\" width=\"250\" height=\"250\" />"
   ]
  },
  {
   "cell_type": "markdown",
   "metadata": {
    "colab_type": "text",
    "id": "XVxCBe6ylcFJ"
   },
   "source": [
    "### Deuxième  étape : Matrice de transition.\n",
    "\n",
    "A partir de la matrice d'adjacence, il est possible de calculer une matrice de transitio $P$ de paramètre $\\lambda$ dont nous aurons besoin lors de l'implémentation de l'algorithme de PageRank. La matrice de transition est définie par :\n",
    "\n",
    "\n",
    "\n",
    "$$ \\disP_{i,j} =  \\left\\{\n",
    "\\begin{array}{l}\n",
    "   \\left.\\begin{array}{l} \n",
    "   \\lambda \\frac{a_{i,j}}{\\sum_{j=1}^N a_{i,j}} + (1-\\lambda ) \\frac{1}{N}  \\text{ si} \\sum_{j=1}^N a_{i,j} \\neq 0\\\\\n",
    "   \\frac{1}{N} \\text{ sinon.}\\\\\n",
    "   \\end{array}\\right.  \\\\\n",
    "\\end{array}\n",
    "\\right.$$"
   ]
  },
  {
   "cell_type": "markdown",
   "metadata": {},
   "source": [
    "**4.  Ecrire une fonction `build_transition_matrix(filename, lambda)` permettant de construire la matrice de transition à partir d'un graph (au format .txt) et d'une valeur pour le paramètre $\\lambda$. Nous supposerons dans un premier temps $\\lambda=0.85$.**"
   ]
  },
  {
   "cell_type": "code",
   "execution_count": 0,
   "metadata": {
    "colab": {},
    "colab_type": "code",
    "id": "_vZGjuI1lcFJ"
   },
   "outputs": [],
   "source": [
    "import numpy as np\n",
    "\n",
    "def build_transition_matrix(filename, lam):\n",
    "    \"\"\"Build the transition matrix from the adjacency matrix\"\"\"\n",
    "    # A completer\n",
    "    return transition_matrix   \n"
   ]
  },
  {
   "cell_type": "markdown",
   "metadata": {
    "colab_type": "text",
    "id": "HKu2Ux72lcFO"
   },
   "source": [
    "**5. Appliquer cette fonction au graph1.txt présent dans le dossier Data pour une valeur de lambda de 0.85 (valeur habituellement choisie).**"
   ]
  },
  {
   "cell_type": "code",
   "execution_count": 0,
   "metadata": {
    "colab": {},
    "colab_type": "code",
    "id": "p7uVT6lBlcFO"
   },
   "outputs": [],
   "source": [
    "# A completer"
   ]
  },
  {
   "cell_type": "markdown",
   "metadata": {},
   "source": [
    "**Le résultat attendu:**\n",
    "\n",
    "<img src=\"./Figures/question5.png\" width=\"450\" height=\"450\" />"
   ]
  },
  {
   "cell_type": "markdown",
   "metadata": {
    "colab_type": "text",
    "id": "xpOdgiM3lcFR"
   },
   "source": [
    "**6. Appliquer la fonction somme sur les colonnes de la matrice de transition $P$ (sommes de tous les éléments d'une ligne, ligne par ligne). Que constatez-vous ?**"
   ]
  },
  {
   "cell_type": "code",
   "execution_count": 0,
   "metadata": {
    "colab": {},
    "colab_type": "code",
    "id": "RxHVFWC_lcFT"
   },
   "outputs": [],
   "source": [
    "# A completer"
   ]
  },
  {
   "cell_type": "markdown",
   "metadata": {
    "colab_type": "text",
    "id": "8QwfJxallcFW"
   },
   "source": [
    "**Interpretation de la matrice de transition**\n",
    "\n",
    "Le PageRank simule le chemin aléatoire d'un internaute qui naviguerait sur le Web en choisissant au hasard les liens à suivre sur une page donnée. Par exemple, dans le cas de la figure plus haut (en section intitulée \"le format des données\"), un internaute situé en page 1 choisirait d'aller à la page 0, 3 ou 2 avec probabilité 1/3, 1/3, 1/3 respectivement car il y a trois liens sortants de la page 1. Les éléments de la matrice de transition représentent en effet des probabilités de transition à chaque nœud qui peuvent être décrites globalement par la matrice de transition $P$ de dimension $N\\times N$, où $N$ est le nombre de nœuds dans le graphique et l'élément $p_{𝑖, 𝑗}$ est la probabilité qu'un internaute aléatoire passe de la page $𝑗$ à la page $i$.\n",
    "\n",
    "\n",
    "**7. Dans le cas du graph1.txt, selon votre lecture visuelle du graph1 quelles sont les probabilités d'un internaute situé en page 5 d'aller dans chacunes des autres pages web ? Et selon votre matrice de transition, quelles sont ces mêmes probabilités ? Que constatez vous ?**\n",
    "\n",
    "\n",
    "\n"
   ]
  },
  {
   "cell_type": "code",
   "execution_count": null,
   "metadata": {
    "colab": {},
    "colab_type": "code",
    "id": "t4sorE-3lcFW"
   },
   "outputs": [],
   "source": [
    "#A compléter"
   ]
  },
  {
   "cell_type": "markdown",
   "metadata": {
    "colab_type": "text",
    "id": "swRLG-F4lcFb"
   },
   "source": [
    "**8. Calculer à nouveau la matrice de transition avec $\\lambda=1$. Que constatez-vous ? Nous reviendrons sur l'étude du paramètre $\\lambda$ et celle de son rôle par la suite.**\n",
    "\n"
   ]
  },
  {
   "cell_type": "code",
   "execution_count": 0,
   "metadata": {
    "colab": {},
    "colab_type": "code",
    "id": "HaAR-J6ElcFb"
   },
   "outputs": [],
   "source": [
    "# A compléter"
   ]
  },
  {
   "cell_type": "markdown",
   "metadata": {
    "colab_type": "text",
    "id": "S8V6yKdflcFd"
   },
   "source": [
    "En parcourant plusieurs fois des balades aléatoires sur le graphe, PageRank simule le comportement de plusieurs internautes aléatoires. Les pages qui reçoivent un plus grand nombre de visites sont considérées comme plus importantes que celles qui ne le sont que rarement. \n",
    "\n",
    "\n",
    "Notons qu'au départ, quand un internaute commence sa promenade, il peut être n'importe où dans le graphe. Si nous n'avons aucune raison de penser qu'il serait plus susceptible de choisir une page plus qu'une autre comme point de départ, nous pouvons dire que la probabilité initiale que l'internaute se trouve sur une certaine page est égale à $\\frac{1}{N}$.\n",
    "\n",
    "Ainsi, au départ, la distribution de probabilité de la position de l'internaute peut être décrite par un vecteur colonne $R^{(0)}$ avec $N$ éléments prenant pour valeur $\\frac{1}{N}$. Ce vecteur s'appelle le vecteur PageRank à l'itération initiale $l=0$. Pour une itération quelconque nous le noterons $l$."
   ]
  },
  {
   "cell_type": "markdown",
   "metadata": {},
   "source": [
    "\n",
    "### Troisième  étape : Algorithme de PageRank\n",
    "\n",
    "Nous avons à ce moment en notre possession l'ensemble des éléments et outils pour implémenter facilement l'algorithme de PageRank suivant :\n",
    "\n",
    "<img src=\"./Figures/Algo_PR.png\" width=\"700\" height=\"700\" />"
   ]
  },
  {
   "cell_type": "markdown",
   "metadata": {
    "colab_type": "text",
    "id": "8iqzzKfklcFe"
   },
   "source": [
    "**9. Implémenter l'Algorithme 1 par une fonction `page_rank(transition_matrix, epsilon = 1e-3):` en réutilisant toutes les fonctions que vous venez de construire plus haut et en fixant tout d'abord $\\lambda=0.85$. Attention : dans la partie initialisation, pensez à initialiser l'erreur $\\epsilon$, par exemple à la valeur $1$.**"
   ]
  },
  {
   "cell_type": "code",
   "execution_count": 0,
   "metadata": {
    "colab": {},
    "colab_type": "code",
    "id": "QH1rg0bilcFf"
   },
   "outputs": [],
   "source": [
    "def page_rank(transition_matrix, epsilon):\n",
    "    \"\"\"Run the PageRank algorithm based on the transition matrix\"\"\"\n",
    "   # A completer\n",
    "    return rank\n",
    "\n",
    "\n",
    "\n"
   ]
  },
  {
   "cell_type": "markdown",
   "metadata": {
    "colab_type": "text",
    "id": "fuD3Up4rlcFh"
   },
   "source": [
    "**10. Appliquez l'Algorithme 1 au graph1.txt avec $\\lambda=0.85$ et $\\epsilon = 10^{-3}$.**"
   ]
  },
  {
   "cell_type": "code",
   "execution_count": 0,
   "metadata": {
    "colab": {},
    "colab_type": "code",
    "id": "_tJqzm-VlcFh"
   },
   "outputs": [],
   "source": [
    "# A compléter"
   ]
  },
  {
   "cell_type": "markdown",
   "metadata": {},
   "source": [
    "**Le résultat attendu:**\n",
    "\n",
    "<img src=\"./Figures/question10.png\" width=\"450\" height=\"450\" />\n",
    "\n"
   ]
  },
  {
   "cell_type": "markdown",
   "metadata": {
    "colab_type": "text",
    "id": "XcenhQKXlcFk"
   },
   "source": [
    "### Quatrième étape : Etude et analyse de l'algorithme de PageRank implémenté.\n",
    "\n",
    "Rappel : fixez tout d'abord $\\lambda=0.85$.\n",
    "\n",
    "**11. Choisissez différentes valeurs pour le critère d'arrêt telles que $\\epsilon = {10^{-3}, 10^{-4}, 10^{-5}}$. Qu'est-ce que vous observez ?**\n",
    "\n",
    "\n",
    "\n",
    "\n",
    "\n",
    "\n",
    "\n",
    "\n",
    "\n",
    "\n",
    "\n",
    "\n",
    "\n"
   ]
  },
  {
   "cell_type": "code",
   "execution_count": 0,
   "metadata": {
    "colab": {},
    "colab_type": "code",
    "id": "db8Lx6t8lcFl"
   },
   "outputs": [],
   "source": [
    "# A compléter"
   ]
  },
  {
   "cell_type": "markdown",
   "metadata": {
    "colab_type": "text",
    "id": "YIefxWjOlcFn"
   },
   "source": [
    "**12. Ajouter quelques hubs (pages qui ont beaucoup de liens sortant) et autorités (pages qui ont beaucoup de liens entrant). Quelles pages sont classées le plus haut ?**"
   ]
  },
  {
   "cell_type": "code",
   "execution_count": 0,
   "metadata": {
    "colab": {},
    "colab_type": "code",
    "id": "n-h_62AylcFn"
   },
   "outputs": [],
   "source": [
    "# A compléter"
   ]
  },
  {
   "cell_type": "markdown",
   "metadata": {
    "colab_type": "text",
    "id": "z9mlHHa0lcFp"
   },
   "source": [
    "**13. Essayez d’accroître les rangs de certaines pages. Expliquez votre méthode et validez-la expérimentalement.**"
   ]
  },
  {
   "cell_type": "code",
   "execution_count": 0,
   "metadata": {
    "colab": {},
    "colab_type": "code",
    "id": "7DuV0OQPlcFq"
   },
   "outputs": [],
   "source": [
    "# A compléter"
   ]
  },
  {
   "cell_type": "markdown",
   "metadata": {
    "colab_type": "text",
    "id": "p98pkvOilcFs"
   },
   "source": [
    "**14. Essayez différentes valeurs pour le facteur d’amortissement $\\lambda$. Quel est le comportement de l’algorithme lorsque $\\lambda$ tend vers 0 ?**"
   ]
  },
  {
   "cell_type": "code",
   "execution_count": 0,
   "metadata": {
    "colab": {},
    "colab_type": "code",
    "id": "9o2fZGERlcFs"
   },
   "outputs": [],
   "source": [
    "# A compléter"
   ]
  },
  {
   "cell_type": "markdown",
   "metadata": {
    "colab_type": "text",
    "id": "zIlwE5A4lcFu"
   },
   "source": [
    "**15. (À la maison) Amusez vous à tester l'algorithme sur les autres graphes plus volumineux mis à votre disposition dans le dossier Data.**"
   ]
  },
  {
   "cell_type": "code",
   "execution_count": 0,
   "metadata": {
    "colab": {},
    "colab_type": "code",
    "id": "OdlLVeC3lcFu"
   },
   "outputs": [],
   "source": [
    "# A compléter"
   ]
  }
 ],
 "metadata": {
  "colab": {
   "collapsed_sections": [],
   "name": "Lab_4_MapR_PR_Student.ipynb",
   "provenance": []
  },
  "kernelspec": {
   "display_name": "Python 3",
   "language": "python",
   "name": "python3"
  },
  "language_info": {
   "codemirror_mode": {
    "name": "ipython",
    "version": 3
   },
   "file_extension": ".py",
   "mimetype": "text/x-python",
   "name": "python",
   "nbconvert_exporter": "python",
   "pygments_lexer": "ipython3",
   "version": "3.6.8"
  }
 },
 "nbformat": 4,
 "nbformat_minor": 1
}
